{
 "cells": [
  {
   "cell_type": "markdown",
   "id": "d6094b6b",
   "metadata": {},
   "source": [
    "## filter method (Pearson correlation coefficient)"
   ]
  },
  {
   "cell_type": "code",
   "execution_count": null,
   "id": "9c589b3b",
   "metadata": {},
   "outputs": [
    {
     "name": "stdout",
     "output_type": "stream",
     "text": [
      "   index        timestamp device_id  distance    ht  hr  ptx  ltx     gtx  \\\n",
      "0      1  4/11/2021 16:24       EN1      2140  40.0   5   20  1.0  2.9955   \n",
      "1      2  4/11/2021 16:25       EN1      2140  40.0   5   20  1.0  2.9955   \n",
      "2      3  4/11/2021 16:26       EN1      2140  40.0   5   20  1.0  2.9955   \n",
      "3      4  4/11/2021 16:27       EN1      2140  40.0   5   20  1.0  2.9955   \n",
      "4      5  4/11/2021 16:28       EN1      2140  40.0   5   20  1.0  2.9955   \n",
      "\n",
      "    lrx  ...    rh     bp  pm2_5  rssi  snr       toa  experimental_pl  \\\n",
      "0  4.25  ...  56.2  852.3    6.0   -72  7.8  0.205824         93.90644   \n",
      "1  4.25  ...  55.5  852.3   18.0   -77  6.5  0.246784         98.90644   \n",
      "2  4.25  ...  54.9  852.3   23.0   -73  6.2  0.287744         94.90644   \n",
      "3  4.25  ...  54.8  852.4   51.0   -77  6.0  0.328704         98.90644   \n",
      "4  4.25  ...  55.1  852.3   42.0   -73  7.0  0.288768         94.90644   \n",
      "\n",
      "   energy        esp         pn  \n",
      "0  0.0880 -72.666832 -80.466832  \n",
      "1  0.0961 -77.877360 -84.377360  \n",
      "2  0.1273 -73.933808 -80.133808  \n",
      "3  0.1302 -77.973228 -83.973228  \n",
      "4  0.1263 -73.790097 -80.790097  \n",
      "\n",
      "[5 rows x 25 columns]\n",
      "Ranked Features based on correlation with SF:\n",
      "rssi         0.569122\n",
      "snr          0.555113\n",
      "ht           0.339943\n",
      "distance     0.201922\n",
      "frequency    0.014847\n",
      "dtype: float64\n"
     ]
    }
   ],
   "source": [
    "import pandas as pd\n",
    "import seaborn as sns\n",
    "import matplotlib.pyplot as plt\n",
    "\n",
    "# Load the dataset\n",
    "file_path = 'C:/Users/aman/Desktop/BITS Research/dataset/review 229/original- LoRaWAN Path Loss Measurement Campaign No Outliers V2 - Copy.csv'\n",
    "df = pd.read_csv(file_path)\n",
    "\n",
    "# Display the first few rows of the dataset\n",
    "print(df.head())\n",
    "\n",
    "# List of features (excluding the target variable 'sf')\n",
    "features = ['rssi', 'snr', 'ht', 'frequency', 'distance']\n",
    "\n",
    "# Calculate the Pearson correlation between each feature and the target variable 'sf'\n",
    "correlations = df[features].corrwith(df['sf']).abs()\n",
    "\n",
    "# Rank the features based on the absolute value of their correlation with 'sf'\n",
    "ranked_features = correlations.sort_values(ascending=False)\n",
    "\n",
    "# Print the ranked features\n",
    "print(\"Ranked Features based on correlation with SF:\")\n",
    "print(ranked_features)\n",
    "\n",
    "# Update feature name \n",
    "ranked_features.index = ranked_features.index.map(lambda x: 'height' if x == 'ht' else x)\n",
    "ranked_features.index = ranked_features.index.map(lambda y: 'RSSI' if y == 'rssi' else y)\n",
    "ranked_features.index = ranked_features.index.map(lambda z: 'SNR' if z == 'snr' else z)\n",
    "\n",
    "# Set the background color\n",
    "sns.set_style(\"whitegrid\", {'axes.facecolor': '#EAEAF2'})\n",
    "\n",
    "# Visualize the correlation of each feature with SF\n",
    "plt.figure(figsize=(6.2, 5))\n",
    "ax = sns.barplot(x=ranked_features.index, y=ranked_features.values)\n",
    "\n",
    "# Customize the grid lines\n",
    "ax.grid(color='white', linestyle='-', linewidth=1)\n",
    "\n",
    "plt.ylabel('Absolute Correlation with SF')\n",
    "plt.xlabel('Features')\n",
    "\n",
    "# Save the figure as an image\n",
    "plt.savefig('pearson600DPI.png', dpi=600)\n",
    "\n",
    "# Show the plot\n",
    "plt.show()\n"
   ]
  },
  {
   "cell_type": "code",
   "execution_count": null,
   "id": "0b4bfb9d",
   "metadata": {},
   "outputs": [],
   "source": []
  }
 ],
 "metadata": {
  "kernelspec": {
   "display_name": "Python 3 (ipykernel)",
   "language": "python",
   "name": "python3"
  },
  "language_info": {
   "codemirror_mode": {
    "name": "ipython",
    "version": 3
   },
   "file_extension": ".py",
   "mimetype": "text/x-python",
   "name": "python",
   "nbconvert_exporter": "python",
   "pygments_lexer": "ipython3",
   "version": "3.11.4"
  }
 },
 "nbformat": 4,
 "nbformat_minor": 5
}
