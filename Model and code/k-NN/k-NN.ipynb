{
 "cells": [
  {
   "cell_type": "code",
   "execution_count": 1,
   "id": "140559fa",
   "metadata": {},
   "outputs": [],
   "source": [
    "import pandas as pd\n",
    "from sklearn.model_selection import train_test_split\n",
    "from sklearn.metrics import accuracy_score, precision_score, recall_score, f1_score\n",
    "from itertools import combinations\n",
    "from sklearn.neighbors import KNeighborsClassifier\n",
    "\n",
    "# Load dataset\n",
    "file_path = \"C:/Users/aman/Desktop/BITS Research/Model and code/copy- LoRaWAN dataset.csv\"\n",
    "df = pd.read_csv(file_path)\n",
    "\n",
    "# Selected features\n",
    "features = ['rssi', 'snr', 'ht', 'frequency', 'distance']\n",
    "\n",
    "# Target variable\n",
    "target = 'sf'\n"
   ]
  },
  {
   "cell_type": "code",
   "execution_count": 2,
   "id": "55685af0",
   "metadata": {},
   "outputs": [
    {
     "name": "stdout",
     "output_type": "stream",
     "text": [
      "Total combinations: 31\n"
     ]
    }
   ],
   "source": [
    "# Generate all feature combinations\n",
    "def generate_feature_combinations(features):\n",
    "    all_combinations = []\n",
    "    for r in range(1, len(features) + 1):\n",
    "        comb = list(combinations(features, r))\n",
    "        all_combinations.extend(comb)\n",
    "    return all_combinations\n",
    "\n",
    "feature_combinations = generate_feature_combinations(features)\n",
    "print(f\"Total combinations: {len(feature_combinations)}\")\n"
   ]
  },
  {
   "cell_type": "code",
   "execution_count": 3,
   "id": "6e2603a5",
   "metadata": {},
   "outputs": [],
   "source": [
    "def evaluate_knn(X_train, X_test, y_train, y_test):\n",
    "    optimal_k = 0\n",
    "    best_f1 = 0\n",
    "    for k in range(1, 21):  # Adjust the range as needed\n",
    "        model = KNeighborsClassifier(n_neighbors=k)\n",
    "        model.fit(X_train, y_train)\n",
    "        y_pred = model.predict(X_test)\n",
    "        \n",
    "        f1 = f1_score(y_test, y_pred, average='weighted')\n",
    "        \n",
    "        if f1 > best_f1:\n",
    "            best_f1 = f1\n",
    "            optimal_k = k\n",
    "            \n",
    "    # Train final model with optimal K\n",
    "    model = KNeighborsClassifier(n_neighbors=optimal_k)\n",
    "    model.fit(X_train, y_train)\n",
    "    y_pred = model.predict(X_test)\n",
    "    \n",
    "    accuracy = accuracy_score(y_test, y_pred)\n",
    "    precision = precision_score(y_test, y_pred, average='weighted')\n",
    "    recall = recall_score(y_test, y_pred, average='weighted')\n",
    "    f1 = f1_score(y_test, y_pred, average='weighted')\n",
    "    \n",
    "    return accuracy, precision, recall, f1, optimal_k\n",
    "\n",
    "results = []\n"
   ]
  },
  {
   "cell_type": "code",
   "execution_count": 4,
   "id": "d29e8bc6",
   "metadata": {},
   "outputs": [
    {
     "name": "stderr",
     "output_type": "stream",
     "text": [
      "D:\\anaconda3\\Lib\\site-packages\\sklearn\\metrics\\_classification.py:1469: UndefinedMetricWarning: Precision is ill-defined and being set to 0.0 in labels with no predicted samples. Use `zero_division` parameter to control this behavior.\n",
      "  _warn_prf(average, modifier, msg_start, len(result))\n",
      "D:\\anaconda3\\Lib\\site-packages\\sklearn\\metrics\\_classification.py:1469: UndefinedMetricWarning: Precision is ill-defined and being set to 0.0 in labels with no predicted samples. Use `zero_division` parameter to control this behavior.\n",
      "  _warn_prf(average, modifier, msg_start, len(result))\n",
      "D:\\anaconda3\\Lib\\site-packages\\sklearn\\metrics\\_classification.py:1469: UndefinedMetricWarning: Precision is ill-defined and being set to 0.0 in labels with no predicted samples. Use `zero_division` parameter to control this behavior.\n",
      "  _warn_prf(average, modifier, msg_start, len(result))\n"
     ]
    },
    {
     "name": "stdout",
     "output_type": "stream",
     "text": [
      "                             Combination  Optimal K  Accuracy  Precision  \\\n",
      "0                                (rssi,)          8  0.578106   0.661770   \n",
      "1                                 (snr,)          7  0.543645   0.640140   \n",
      "2                                  (ht,)          3  0.525358   0.642213   \n",
      "3                           (frequency,)         11  0.446041   0.332465   \n",
      "4                            (distance,)          2  0.531203   0.605667   \n",
      "5                            (rssi, snr)         14  0.644337   0.678327   \n",
      "6                             (rssi, ht)         16  0.595936   0.667029   \n",
      "7                      (rssi, frequency)         15  0.583306   0.641233   \n",
      "8                       (rssi, distance)         16  0.598299   0.661528   \n",
      "9                              (snr, ht)          9  0.556140   0.618748   \n",
      "10                      (snr, frequency)          2  0.543811   0.627999   \n",
      "11                       (snr, distance)         16  0.560303   0.619738   \n",
      "12                       (ht, frequency)          2  0.528662   0.643835   \n",
      "13                        (ht, distance)          2  0.531203   0.605667   \n",
      "14                 (frequency, distance)          2  0.528662   0.643835   \n",
      "15                       (rssi, snr, ht)         20  0.650810   0.671718   \n",
      "16                (rssi, snr, frequency)         20  0.662537   0.673223   \n",
      "17                 (rssi, snr, distance)         20  0.651396   0.672126   \n",
      "18                 (rssi, ht, frequency)         14  0.595893   0.624519   \n",
      "19                  (rssi, ht, distance)         16  0.598299   0.661528   \n",
      "20           (rssi, frequency, distance)         18  0.597531   0.623964   \n",
      "21                  (snr, ht, frequency)          2  0.553851   0.635588   \n",
      "22                   (snr, ht, distance)         16  0.560303   0.619738   \n",
      "23            (snr, frequency, distance)         14  0.567099   0.602184   \n",
      "24             (ht, frequency, distance)          2  0.528662   0.643835   \n",
      "25            (rssi, snr, ht, frequency)         19  0.667141   0.677599   \n",
      "26             (rssi, snr, ht, distance)         20  0.651396   0.672126   \n",
      "27      (rssi, snr, frequency, distance)         17  0.664810   0.675975   \n",
      "28       (rssi, ht, frequency, distance)         18  0.597531   0.623964   \n",
      "29        (snr, ht, frequency, distance)         14  0.567099   0.602184   \n",
      "30  (rssi, snr, ht, frequency, distance)         17  0.664810   0.675975   \n",
      "\n",
      "      Recall  F1 Score  \n",
      "0   0.578106  0.605652  \n",
      "1   0.543645  0.575154  \n",
      "2   0.525358  0.567682  \n",
      "3   0.446041  0.376480  \n",
      "4   0.531203  0.539556  \n",
      "5   0.644337  0.655662  \n",
      "6   0.595936  0.617576  \n",
      "7   0.583306  0.606314  \n",
      "8   0.598299  0.620007  \n",
      "9   0.556140  0.575292  \n",
      "10  0.543811  0.570290  \n",
      "11  0.560303  0.578725  \n",
      "12  0.528662  0.565135  \n",
      "13  0.531203  0.539556  \n",
      "14  0.528662  0.565135  \n",
      "15  0.650810  0.657849  \n",
      "16  0.662537  0.665174  \n",
      "17  0.651396  0.658667  \n",
      "18  0.595893  0.607357  \n",
      "19  0.598299  0.620007  \n",
      "20  0.597531  0.608979  \n",
      "21  0.553851  0.580390  \n",
      "22  0.560303  0.578725  \n",
      "23  0.567099  0.580342  \n",
      "24  0.528662  0.565135  \n",
      "25  0.667141  0.669526  \n",
      "26  0.651396  0.658667  \n",
      "27  0.664810  0.667585  \n",
      "28  0.597531  0.608979  \n",
      "29  0.567099  0.580342  \n",
      "30  0.664810  0.667585  \n"
     ]
    }
   ],
   "source": [
    "for comb in feature_combinations:\n",
    "    X = df[list(comb)]\n",
    "    y = df[target]\n",
    "    \n",
    "    X_train, X_test, y_train, y_test = train_test_split(X, y, test_size=0.2, random_state=42)\n",
    "    \n",
    "    accuracy, precision, recall, f1, optimal_k = evaluate_knn(X_train, X_test, y_train, y_test)\n",
    "    \n",
    "    results.append({\n",
    "        'Combination': comb,\n",
    "        'Optimal K': optimal_k,\n",
    "        'Accuracy': accuracy,\n",
    "        'Precision': precision,\n",
    "        'Recall': recall,\n",
    "        'F1 Score': f1\n",
    "    })\n",
    "\n",
    "# Convert results to a DataFrame for better visualization\n",
    "results_df = pd.DataFrame(results)\n",
    "print(results_df)\n"
   ]
  },
  {
   "cell_type": "code",
   "execution_count": null,
   "id": "4d939f8d",
   "metadata": {},
   "outputs": [],
   "source": []
  }
 ],
 "metadata": {
  "kernelspec": {
   "display_name": "Python 3 (ipykernel)",
   "language": "python",
   "name": "python3"
  },
  "language_info": {
   "codemirror_mode": {
    "name": "ipython",
    "version": 3
   },
   "file_extension": ".py",
   "mimetype": "text/x-python",
   "name": "python",
   "nbconvert_exporter": "python",
   "pygments_lexer": "ipython3",
   "version": "3.11.4"
  }
 },
 "nbformat": 4,
 "nbformat_minor": 5
}
