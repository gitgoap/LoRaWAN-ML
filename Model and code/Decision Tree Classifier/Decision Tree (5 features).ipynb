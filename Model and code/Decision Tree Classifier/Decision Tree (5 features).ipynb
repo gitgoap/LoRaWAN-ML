{
 "cells": [
  {
   "cell_type": "code",
   "execution_count": 1,
   "id": "49b5c321",
   "metadata": {},
   "outputs": [],
   "source": [
    "import pandas as pd\n",
    "from sklearn.model_selection import train_test_split\n",
    "from sklearn.metrics import accuracy_score, precision_score, recall_score, f1_score\n",
    "from itertools import combinations\n",
    "from sklearn.tree import DecisionTreeClassifier\n",
    "\n",
    "# Load dataset\n",
    "file_path = \"C:/Users/aman/Desktop/BITS Research/Model and code/copy- LoRaWAN dataset.csv\"\n",
    "df = pd.read_csv(file_path)\n",
    "\n",
    "# Selected features\n",
    "features = ['rssi', 'snr', 'ht', 'frequency', 'distance']\n",
    "\n",
    "# Target variable\n",
    "target = 'sf'\n"
   ]
  },
  {
   "cell_type": "code",
   "execution_count": 2,
   "id": "cc270ac6",
   "metadata": {},
   "outputs": [
    {
     "name": "stdout",
     "output_type": "stream",
     "text": [
      "Total combinations: 31\n"
     ]
    }
   ],
   "source": [
    "# Generate all feature combinations\n",
    "def generate_feature_combinations(features):\n",
    "    all_combinations = []\n",
    "    for r in range(1, len(features) + 1):\n",
    "        comb = list(combinations(features, r))\n",
    "        all_combinations.extend(comb)\n",
    "    return all_combinations\n",
    "\n",
    "feature_combinations = generate_feature_combinations(features)\n",
    "print(f\"Total combinations: {len(feature_combinations)}\")\n"
   ]
  },
  {
   "cell_type": "code",
   "execution_count": 3,
   "id": "d06dfa82",
   "metadata": {},
   "outputs": [],
   "source": [
    "def evaluate_decision_tree(X_train, X_test, y_train, y_test):\n",
    "    model = DecisionTreeClassifier(random_state=42)\n",
    "    model.fit(X_train, y_train)\n",
    "    y_pred = model.predict(X_test)\n",
    "    \n",
    "    accuracy = accuracy_score(y_test, y_pred)\n",
    "    precision = precision_score(y_test, y_pred, average='weighted')\n",
    "    recall = recall_score(y_test, y_pred, average='weighted')\n",
    "    f1 = f1_score(y_test, y_pred, average='weighted')\n",
    "    \n",
    "    return accuracy, precision, recall, f1\n",
    "\n",
    "results = []\n"
   ]
  },
  {
   "cell_type": "code",
   "execution_count": 4,
   "id": "a996bbe3",
   "metadata": {},
   "outputs": [
    {
     "name": "stderr",
     "output_type": "stream",
     "text": [
      "D:\\anaconda3\\Lib\\site-packages\\sklearn\\metrics\\_classification.py:1469: UndefinedMetricWarning: Precision is ill-defined and being set to 0.0 in labels with no predicted samples. Use `zero_division` parameter to control this behavior.\n",
      "  _warn_prf(average, modifier, msg_start, len(result))\n",
      "D:\\anaconda3\\Lib\\site-packages\\sklearn\\metrics\\_classification.py:1469: UndefinedMetricWarning: Precision is ill-defined and being set to 0.0 in labels with no predicted samples. Use `zero_division` parameter to control this behavior.\n",
      "  _warn_prf(average, modifier, msg_start, len(result))\n",
      "D:\\anaconda3\\Lib\\site-packages\\sklearn\\metrics\\_classification.py:1469: UndefinedMetricWarning: Precision is ill-defined and being set to 0.0 in labels with no predicted samples. Use `zero_division` parameter to control this behavior.\n",
      "  _warn_prf(average, modifier, msg_start, len(result))\n",
      "D:\\anaconda3\\Lib\\site-packages\\sklearn\\metrics\\_classification.py:1469: UndefinedMetricWarning: Precision is ill-defined and being set to 0.0 in labels with no predicted samples. Use `zero_division` parameter to control this behavior.\n",
      "  _warn_prf(average, modifier, msg_start, len(result))\n"
     ]
    },
    {
     "name": "stdout",
     "output_type": "stream",
     "text": [
      "                             Combination  Accuracy  Precision    Recall  \\\n",
      "0                                (rssi,)  0.594378   0.632323  0.594378   \n",
      "1                                 (snr,)  0.569425   0.558761  0.569425   \n",
      "2                                  (ht,)  0.529371   0.460938  0.529371   \n",
      "3                           (frequency,)  0.525337   0.275979  0.525337   \n",
      "4                            (distance,)  0.529371   0.460938  0.529371   \n",
      "5                            (rssi, snr)  0.662349   0.680306  0.662349   \n",
      "6                             (rssi, ht)  0.613110   0.630269  0.613110   \n",
      "7                      (rssi, frequency)  0.600470   0.616302  0.600470   \n",
      "8                       (rssi, distance)  0.613110   0.630269  0.613110   \n",
      "9                              (snr, ht)  0.581576   0.578263  0.581576   \n",
      "10                      (snr, frequency)  0.576322   0.564982  0.576322   \n",
      "11                       (snr, distance)  0.581576   0.578263  0.581576   \n",
      "12                       (ht, frequency)  0.531037   0.574611  0.531037   \n",
      "13                        (ht, distance)  0.529371   0.460938  0.529371   \n",
      "14                 (frequency, distance)  0.531037   0.574611  0.531037   \n",
      "15                       (rssi, snr, ht)  0.666035   0.687082  0.666035   \n",
      "16                (rssi, snr, frequency)  0.677300   0.687371  0.677300   \n",
      "17                 (rssi, snr, distance)  0.666035   0.687076  0.666035   \n",
      "18                 (rssi, ht, frequency)  0.617654   0.623715  0.617654   \n",
      "19                  (rssi, ht, distance)  0.613110   0.630269  0.613110   \n",
      "20           (rssi, frequency, distance)  0.617654   0.623715  0.617654   \n",
      "21                  (snr, ht, frequency)  0.587754   0.580608  0.587754   \n",
      "22                   (snr, ht, distance)  0.581576   0.578263  0.581576   \n",
      "23            (snr, frequency, distance)  0.587754   0.580609  0.587754   \n",
      "24             (ht, frequency, distance)  0.531037   0.574611  0.531037   \n",
      "25            (rssi, snr, ht, frequency)  0.680415   0.691102  0.680415   \n",
      "26             (rssi, snr, ht, distance)  0.666035   0.687082  0.666035   \n",
      "27      (rssi, snr, frequency, distance)  0.680383   0.691066  0.680383   \n",
      "28       (rssi, ht, frequency, distance)  0.617654   0.623715  0.617654   \n",
      "29        (snr, ht, frequency, distance)  0.587754   0.580609  0.587754   \n",
      "30  (rssi, snr, ht, frequency, distance)  0.680421   0.691104  0.680421   \n",
      "\n",
      "    F1 Score  \n",
      "0   0.583543  \n",
      "1   0.521411  \n",
      "2   0.492339  \n",
      "3   0.361860  \n",
      "4   0.492339  \n",
      "5   0.667127  \n",
      "6   0.610160  \n",
      "7   0.604130  \n",
      "8   0.610160  \n",
      "9   0.556503  \n",
      "10  0.555656  \n",
      "11  0.556503  \n",
      "12  0.536404  \n",
      "13  0.492339  \n",
      "14  0.536404  \n",
      "15  0.671427  \n",
      "16  0.677567  \n",
      "17  0.671426  \n",
      "18  0.618253  \n",
      "19  0.610160  \n",
      "20  0.618253  \n",
      "21  0.571715  \n",
      "22  0.556503  \n",
      "23  0.571717  \n",
      "24  0.536404  \n",
      "25  0.680490  \n",
      "26  0.671427  \n",
      "27  0.680457  \n",
      "28  0.618253  \n",
      "29  0.571717  \n",
      "30  0.680493  \n"
     ]
    }
   ],
   "source": [
    "for comb in feature_combinations:\n",
    "    X = df[list(comb)]\n",
    "    y = df[target]\n",
    "    \n",
    "    X_train, X_test, y_train, y_test = train_test_split(X, y, test_size=0.2, random_state=42)\n",
    "    \n",
    "    accuracy, precision, recall, f1 = evaluate_decision_tree(X_train, X_test, y_train, y_test)\n",
    "    \n",
    "    results.append({\n",
    "        'Combination': comb,\n",
    "        'Accuracy': accuracy,\n",
    "        'Precision': precision,\n",
    "        'Recall': recall,\n",
    "        'F1 Score': f1\n",
    "    })\n",
    "\n",
    "# Convert results to a DataFrame for better visualization\n",
    "results_df = pd.DataFrame(results)\n",
    "print(results_df)\n"
   ]
  },
  {
   "cell_type": "code",
   "execution_count": null,
   "id": "ea3353b5",
   "metadata": {},
   "outputs": [],
   "source": []
  }
 ],
 "metadata": {
  "kernelspec": {
   "display_name": "Python 3 (ipykernel)",
   "language": "python",
   "name": "python3"
  },
  "language_info": {
   "codemirror_mode": {
    "name": "ipython",
    "version": 3
   },
   "file_extension": ".py",
   "mimetype": "text/x-python",
   "name": "python",
   "nbconvert_exporter": "python",
   "pygments_lexer": "ipython3",
   "version": "3.11.4"
  }
 },
 "nbformat": 4,
 "nbformat_minor": 5
}
